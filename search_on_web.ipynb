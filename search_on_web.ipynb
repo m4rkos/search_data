{
 "metadata": {
  "language_info": {
   "codemirror_mode": {
    "name": "ipython",
    "version": 3
   },
   "file_extension": ".py",
   "mimetype": "text/x-python",
   "name": "python",
   "nbconvert_exporter": "python",
   "pygments_lexer": "ipython3",
   "version": "3.8.2-final"
  },
  "orig_nbformat": 2,
  "kernelspec": {
   "name": "python3",
   "display_name": "Python 3.8.2 64-bit ('k38': conda)",
   "metadata": {
    "interpreter": {
     "hash": "9e94daddeffb736c15d01c73b25d4bccccf732c6d5bf296eaf133788a0c18573"
    }
   }
  }
 },
 "nbformat": 4,
 "nbformat_minor": 2,
 "cells": [
  {
   "source": [
    "# to execute searches on web without market links\n",
    "from finder import FinderScript\n",
    "\n",
    "start = FinderScript()\n",
    "start.main()"
   ],
   "cell_type": "code",
   "metadata": {},
   "execution_count": null,
   "outputs": []
  },
  {
   "cell_type": "code",
   "execution_count": null,
   "metadata": {},
   "outputs": [],
   "source": []
  }
 ]
}